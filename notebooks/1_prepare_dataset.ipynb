{
 "cells": [
  {
   "cell_type": "markdown",
   "id": "45b232ed",
   "metadata": {},
   "source": [
    "# 1. prepare dataset"
   ]
  },
  {
   "cell_type": "code",
   "execution_count": 5,
   "id": "db6a3e7b",
   "metadata": {},
   "outputs": [],
   "source": [
    "import io\n",
    "import glob\n",
    "import os\n",
    "import zipfile\n",
    "\n",
    "import pandas as pd\n",
    "import requests"
   ]
  },
  {
   "cell_type": "markdown",
   "id": "09109dd4",
   "metadata": {},
   "source": [
    "## 1.1 download raw data"
   ]
  },
  {
   "cell_type": "code",
   "execution_count": 6,
   "id": "f47f7845",
   "metadata": {},
   "outputs": [],
   "source": [
    "SOURCE_BASE_URL = \"https://danepubliczne.imgw.pl/data/dane_pomiarowo_obserwacyjne/dane_meteorologiczne/dobowe/klimat/\"\n",
    "OUTPUT_DIR = \"../data/raw_files\"\n",
    "os.makedirs(OUTPUT_DIR, exist_ok=True)"
   ]
  },
  {
   "cell_type": "code",
   "execution_count": 7,
   "id": "124f5845",
   "metadata": {},
   "outputs": [
    {
     "name": "stdout",
     "output_type": "stream",
     "text": [
      "error when downloading file: https://danepubliczne.imgw.pl/data/dane_pomiarowo_obserwacyjne/dane_meteorologiczne/dobowe/klimat//2024/2024_07_k.zip: Bad CRC-32 for file 'k_d_07_2024.csv'\n",
      "error when downloading file: https://danepubliczne.imgw.pl/data/dane_pomiarowo_obserwacyjne/dane_meteorologiczne/dobowe/klimat//2025/2025_08_k.zip: File is not a zip file\n",
      "error when downloading file: https://danepubliczne.imgw.pl/data/dane_pomiarowo_obserwacyjne/dane_meteorologiczne/dobowe/klimat//2025/2025_09_k.zip: File is not a zip file\n",
      "error when downloading file: https://danepubliczne.imgw.pl/data/dane_pomiarowo_obserwacyjne/dane_meteorologiczne/dobowe/klimat//2025/2025_10_k.zip: File is not a zip file\n",
      "error when downloading file: https://danepubliczne.imgw.pl/data/dane_pomiarowo_obserwacyjne/dane_meteorologiczne/dobowe/klimat//2025/2025_11_k.zip: File is not a zip file\n",
      "error when downloading file: https://danepubliczne.imgw.pl/data/dane_pomiarowo_obserwacyjne/dane_meteorologiczne/dobowe/klimat//2025/2025_12_k.zip: File is not a zip file\n"
     ]
    }
   ],
   "source": [
    "for year in range(2001, 2026):\n",
    "    for month in range(1, 13):\n",
    "        month_str = \"0\" + str(month) if month < 10 else str(month)\n",
    "        zip_url = f\"{SOURCE_BASE_URL}/{year}/{year}_{month_str}_k.zip\"\n",
    "        file_to_extract = f\"k_d_{month_str}_{year}.csv\"\n",
    "        output_path = os.path.join(OUTPUT_DIR, f\"{year}_{month_str}.csv\")\n",
    "        \n",
    "        # skip if file already exists\n",
    "        if os.path.exists(output_path):\n",
    "            print(f\"skipping file {output_path} (already exists)\")\n",
    "            continue\n",
    "\n",
    "        try:\n",
    "            # download zip\n",
    "            response = requests.get(zip_url)\n",
    "\n",
    "            # extract zip\n",
    "            with zipfile.ZipFile(io.BytesIO(response.content)) as z:\n",
    "                with z.open(file_to_extract) as f:\n",
    "                    file_bytes = f.read()\n",
    "\n",
    "            # save only the file we want\n",
    "            with open(output_path, \"wb\") as out_file:\n",
    "                out_file.write(file_bytes)\n",
    "        \n",
    "        except Exception as e:\n",
    "            # skip if some issue\n",
    "            print(f\"error when downloading file: {zip_url}: {e}\")\n",
    "            continue\n",
    "        "
   ]
  },
  {
   "cell_type": "markdown",
   "id": "77f78aa7",
   "metadata": {},
   "source": [
    "## 1.2 consolidate and select one station"
   ]
  },
  {
   "cell_type": "code",
   "execution_count": 8,
   "id": "ca6cf171",
   "metadata": {},
   "outputs": [
    {
     "name": "stdout",
     "output_type": "stream",
     "text": [
      "Saved 8866 rows to ../data/one_station.csv\n"
     ]
    }
   ],
   "source": [
    "INPUT_DIR = \"../data/raw_files\"\n",
    "OUTPUT_FILE = \"../data/one_station.csv\"\n",
    "FILTER_COL_INDEX = 0  # station code\n",
    "FILTER_VALUE = 252210170  # WARSZAWA-OBSERWATORIUM II\n",
    "COLUMN_NAMES = [\n",
    "    \"station_code\",\n",
    "    \"station_name\",\n",
    "    \"year\",\n",
    "    \"month\",\n",
    "    \"day\",\n",
    "    \"max_day_temp\",\n",
    "    \"max_temp_status\",\n",
    "    \"min_day_temp\",\n",
    "    \"min_temp_status\",\n",
    "    \"avg_day_temp\",\n",
    "    \"avg_temp_status\",\n",
    "    \"min_ground_temp\",\n",
    "    \"min_ground_temp_status\",\n",
    "    \"rainfall\",\n",
    "    \"rainfall_status\",\n",
    "    \"rainfall_type\",\n",
    "    \"snowfall_height\",\n",
    "    \"snowfall_height_status\"\n",
    "]\n",
    "\n",
    "csv_files = glob.glob(os.path.join(INPUT_DIR, \"*.csv\"))\n",
    "all_dfs = []\n",
    "\n",
    "for file in csv_files:\n",
    "    df = pd.read_csv(\n",
    "        file, \n",
    "        header=None, \n",
    "        encoding=\"utf-8\", \n",
    "        encoding_errors=\"ignore\",\n",
    "        sep=\",\",\n",
    "        quotechar='\"'\n",
    "    ) \n",
    "    filtered = df[df[FILTER_COL_INDEX] == FILTER_VALUE]\n",
    "\n",
    "    if not filtered.empty:\n",
    "        all_dfs.append(filtered)\n",
    "\n",
    "final_df = pd.concat(all_dfs, ignore_index=True)\n",
    "final_df.columns = COLUMN_NAMES\n",
    "final_df.to_csv(OUTPUT_FILE, index=False, header=True)\n",
    "\n",
    "print(f\"Saved {len(final_df)} rows to {OUTPUT_FILE}\") "
   ]
  },
  {
   "cell_type": "markdown",
   "id": "e8e517ec",
   "metadata": {},
   "source": [
    "## 1.3 data exploration"
   ]
  },
  {
   "cell_type": "code",
   "execution_count": 9,
   "id": "8b450b13",
   "metadata": {},
   "outputs": [
    {
     "name": "stdout",
     "output_type": "stream",
     "text": [
      "<class 'pandas.core.frame.DataFrame'>\n",
      "RangeIndex: 8866 entries, 0 to 8865\n",
      "Data columns (total 18 columns):\n",
      " #   Column                  Non-Null Count  Dtype  \n",
      "---  ------                  --------------  -----  \n",
      " 0   station_code            8866 non-null   int64  \n",
      " 1   station_name            8866 non-null   object \n",
      " 2   year                    8866 non-null   int64  \n",
      " 3   month                   8866 non-null   int64  \n",
      " 4   day                     8866 non-null   int64  \n",
      " 5   max_day_temp            8866 non-null   float64\n",
      " 6   max_temp_status         4 non-null      float64\n",
      " 7   min_day_temp            8866 non-null   float64\n",
      " 8   min_temp_status         3 non-null      float64\n",
      " 9   avg_day_temp            8866 non-null   float64\n",
      " 10  avg_temp_status         6 non-null      float64\n",
      " 11  min_ground_temp         8440 non-null   float64\n",
      " 12  min_ground_temp_status  8866 non-null   float64\n",
      " 13  rainfall                8440 non-null   float64\n",
      " 14  rainfall_status         8371 non-null   float64\n",
      " 15  rainfall_type           233 non-null    object \n",
      " 16  snowfall_height         8440 non-null   float64\n",
      " 17  snowfall_height_status  8776 non-null   float64\n",
      "dtypes: float64(12), int64(4), object(2)\n",
      "memory usage: 1.2+ MB\n",
      "None\n"
     ]
    }
   ],
   "source": [
    "INPUT_FILE = \"../data/one_station.csv\"\n",
    "\n",
    "df = pd.read_csv(INPUT_FILE)\n",
    "print(df.info())"
   ]
  },
  {
   "cell_type": "code",
   "execution_count": 17,
   "id": "cedf97a9",
   "metadata": {},
   "outputs": [
    {
     "name": "stdout",
     "output_type": "stream",
     "text": [
      "<class 'pandas.core.frame.DataFrame'>\n",
      "RangeIndex: 8866 entries, 0 to 8865\n",
      "Data columns (total 18 columns):\n",
      " #   Column                  Non-Null Count  Dtype  \n",
      "---  ------                  --------------  -----  \n",
      " 0   station_code            8866 non-null   int64  \n",
      " 1   station_name            8866 non-null   object \n",
      " 2   year                    8866 non-null   int64  \n",
      " 3   month                   8866 non-null   int64  \n",
      " 4   day                     8866 non-null   int64  \n",
      " 5   max_day_temp            8866 non-null   float64\n",
      " 6   max_temp_status         4 non-null      float64\n",
      " 7   min_day_temp            8866 non-null   float64\n",
      " 8   min_temp_status         3 non-null      float64\n",
      " 9   avg_day_temp            8866 non-null   float64\n",
      " 10  avg_temp_status         6 non-null      float64\n",
      " 11  min_ground_temp         8440 non-null   float64\n",
      " 12  min_ground_temp_status  8866 non-null   float64\n",
      " 13  rainfall                8440 non-null   float64\n",
      " 14  rainfall_status         8371 non-null   float64\n",
      " 15  rainfall_type           233 non-null    object \n",
      " 16  snowfall_height         8440 non-null   float64\n",
      " 17  snowfall_height_status  8776 non-null   float64\n",
      "dtypes: float64(12), int64(4), object(2)\n",
      "memory usage: 1.2+ MB\n",
      "None\n"
     ]
    }
   ],
   "source": [
    "INPUT_FILE = \"../data/one_station.csv\"\n",
    "\n",
    "df = pd.read_csv(INPUT_FILE)\n",
    "with_errors = df[\n",
    "    (\n",
    "        (df[\"max_temp_status\"] == 8) \n",
    "        | (df[\"min_temp_status\"] == 8) \n",
    "        | (df[\"avg_temp_status\"] == 8) \n",
    "        | (df[\"min_ground_temp_status\"] == 8)\n",
    "        | (df[\"rainfall_status\"] == 8)\n",
    "        | (df[\"snowfall_height_status\"] == 8)\n",
    "    )]\n",
    "print(with_errors.info())"
   ]
  },
  {
   "cell_type": "markdown",
   "id": "31527d20",
   "metadata": {},
   "source": [
    "## 1.4 filter out bad columns and rows without measurements "
   ]
  },
  {
   "cell_type": "code",
   "execution_count": 19,
   "id": "b3bc9c02",
   "metadata": {},
   "outputs": [
    {
     "name": "stdout",
     "output_type": "stream",
     "text": [
      "<class 'pandas.core.frame.DataFrame'>\n",
      "Index: 8860 entries, 0 to 8865\n",
      "Data columns (total 6 columns):\n",
      " #   Column        Non-Null Count  Dtype  \n",
      "---  ------        --------------  -----  \n",
      " 0   year          8860 non-null   int64  \n",
      " 1   month         8860 non-null   int64  \n",
      " 2   day           8860 non-null   int64  \n",
      " 3   max_day_temp  8860 non-null   float64\n",
      " 4   min_day_temp  8860 non-null   float64\n",
      " 5   avg_day_temp  8860 non-null   float64\n",
      "dtypes: float64(3), int64(3)\n",
      "memory usage: 484.5 KB\n",
      "None\n"
     ]
    }
   ],
   "source": [
    "INPUT_FILE = \"../data/one_station.csv\"\n",
    "OUTPUT_fILE = \"../data/final.csv\"\n",
    "\n",
    "df = pd.read_csv(INPUT_FILE)\n",
    "df = df.drop(\n",
    "    [\n",
    "        \"station_code\",\n",
    "        \"station_name\",\n",
    "        \"min_ground_temp\",\n",
    "        \"min_ground_temp_status\",\n",
    "        \"rainfall\",\n",
    "        \"rainfall_status\",\n",
    "        \"rainfall_type\",\n",
    "        \"snowfall_height\",\n",
    "        \"snowfall_height_status\"\n",
    "    ],\n",
    "    axis=1\n",
    ")\n",
    "\n",
    "df = df[\n",
    "    ~(\n",
    "        (df[\"max_temp_status\"] == 8) \n",
    "        | (df[\"min_temp_status\"] == 8) \n",
    "        | (df[\"avg_temp_status\"] == 8)\n",
    "    )]\n",
    "\n",
    "df = df.drop(\n",
    "    [\n",
    "        \"max_temp_status\",\n",
    "        \"min_temp_status\",\n",
    "        \"avg_temp_status\",\n",
    "    ],\n",
    "    axis=1\n",
    ")\n",
    "\n",
    "print(df.info())\n",
    "df.to_csv(OUTPUT_FILE, index=False, header=True)"
   ]
  }
 ],
 "metadata": {
  "kernelspec": {
   "display_name": ".venv",
   "language": "python",
   "name": "python3"
  },
  "language_info": {
   "codemirror_mode": {
    "name": "ipython",
    "version": 3
   },
   "file_extension": ".py",
   "mimetype": "text/x-python",
   "name": "python",
   "nbconvert_exporter": "python",
   "pygments_lexer": "ipython3",
   "version": "3.10.0"
  }
 },
 "nbformat": 4,
 "nbformat_minor": 5
}
