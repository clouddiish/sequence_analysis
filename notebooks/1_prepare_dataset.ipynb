{
 "cells": [
  {
   "cell_type": "markdown",
   "id": "45b232ed",
   "metadata": {},
   "source": [
    "# 1. prepare dataset"
   ]
  },
  {
   "cell_type": "code",
   "execution_count": 6,
   "id": "db6a3e7b",
   "metadata": {},
   "outputs": [],
   "source": [
    "import os\n",
    "import shutil\n",
    "\n",
    "import kagglehub\n",
    "import matplotlib.pyplot as plt\n",
    "import numpy as np\n",
    "import pandas as pd\n",
    "from sklearn.preprocessing import MinMaxScaler"
   ]
  },
  {
   "cell_type": "markdown",
   "id": "09109dd4",
   "metadata": {},
   "source": [
    "## 1.1 download raw data"
   ]
  },
  {
   "cell_type": "code",
   "execution_count": 7,
   "id": "a2c4d3c4",
   "metadata": {},
   "outputs": [
    {
     "name": "stdout",
     "output_type": "stream",
     "text": [
      "Downloaded to: C:\\Users\\Lenovo\\.cache\\kagglehub\\datasets\\mnassrib\\jena-climate\\versions\\1\n",
      "Files moved to: c:\\Users\\Lenovo\\myFiles\\nauka\\studia\\sem7\\uczenie_glebokie\\laby\\sequence_analysis\\data\n"
     ]
    }
   ],
   "source": [
    "OUTPUT_DIR = \"../data\"\n",
    "os.makedirs(OUTPUT_DIR, exist_ok=True)\n",
    "\n",
    "path = kagglehub.dataset_download(\"mnassrib/jena-climate\")\n",
    "print(\"Downloaded to:\", path)\n",
    "\n",
    "for filename in os.listdir(path):\n",
    "    source = os.path.join(path, filename)\n",
    "    destination = os.path.join(OUTPUT_DIR, filename)\n",
    "    shutil.move(source, destination)\n",
    "\n",
    "print(f\"Files moved to: {os.path.abspath(OUTPUT_DIR)}\")"
   ]
  },
  {
   "cell_type": "markdown",
   "id": "90416de9",
   "metadata": {},
   "source": [
    "## 1.2 data exploration"
   ]
  },
  {
   "cell_type": "code",
   "execution_count": 23,
   "id": "677912a8",
   "metadata": {},
   "outputs": [
    {
     "name": "stdout",
     "output_type": "stream",
     "text": [
      "HEAD\n",
      "             Date Time  p (mbar)  T (degC)  Tpot (K)  Tdew (degC)  rh (%)  \\\n",
      "0  01.01.2009 00:10:00    996.52     -8.02    265.40        -8.90    93.3   \n",
      "1  01.01.2009 00:20:00    996.57     -8.41    265.01        -9.28    93.4   \n",
      "2  01.01.2009 00:30:00    996.53     -8.51    264.91        -9.31    93.9   \n",
      "3  01.01.2009 00:40:00    996.51     -8.31    265.12        -9.07    94.2   \n",
      "4  01.01.2009 00:50:00    996.51     -8.27    265.15        -9.04    94.1   \n",
      "\n",
      "   VPmax (mbar)  VPact (mbar)  VPdef (mbar)  sh (g/kg)  H2OC (mmol/mol)  \\\n",
      "0          3.33          3.11          0.22       1.94             3.12   \n",
      "1          3.23          3.02          0.21       1.89             3.03   \n",
      "2          3.21          3.01          0.20       1.88             3.02   \n",
      "3          3.26          3.07          0.19       1.92             3.08   \n",
      "4          3.27          3.08          0.19       1.92             3.09   \n",
      "\n",
      "   rho (g/m**3)  wv (m/s)  max. wv (m/s)  wd (deg)  \n",
      "0       1307.75      1.03           1.75     152.3  \n",
      "1       1309.80      0.72           1.50     136.1  \n",
      "2       1310.24      0.19           0.63     171.6  \n",
      "3       1309.19      0.34           0.50     198.0  \n",
      "4       1309.00      0.32           0.63     214.3  \n",
      "\n",
      "INFO\n",
      "<class 'pandas.core.frame.DataFrame'>\n",
      "RangeIndex: 420551 entries, 0 to 420550\n",
      "Data columns (total 15 columns):\n",
      " #   Column           Non-Null Count   Dtype  \n",
      "---  ------           --------------   -----  \n",
      " 0   Date Time        420551 non-null  object \n",
      " 1   p (mbar)         420551 non-null  float64\n",
      " 2   T (degC)         420551 non-null  float64\n",
      " 3   Tpot (K)         420551 non-null  float64\n",
      " 4   Tdew (degC)      420551 non-null  float64\n",
      " 5   rh (%)           420551 non-null  float64\n",
      " 6   VPmax (mbar)     420551 non-null  float64\n",
      " 7   VPact (mbar)     420551 non-null  float64\n",
      " 8   VPdef (mbar)     420551 non-null  float64\n",
      " 9   sh (g/kg)        420551 non-null  float64\n",
      " 10  H2OC (mmol/mol)  420551 non-null  float64\n",
      " 11  rho (g/m**3)     420551 non-null  float64\n",
      " 12  wv (m/s)         420551 non-null  float64\n",
      " 13  max. wv (m/s)    420551 non-null  float64\n",
      " 14  wd (deg)         420551 non-null  float64\n",
      "dtypes: float64(14), object(1)\n",
      "memory usage: 48.1+ MB\n",
      "None\n",
      "\n",
      "DESCRIBE\n",
      "            p (mbar)       T (degC)    Tdew (degC)         rh (%)  \\\n",
      "count  420551.000000  420551.000000  420551.000000  420551.000000   \n",
      "mean      989.212776       9.450147       4.955854      76.008259   \n",
      "std         8.358481       8.423365       6.730674      16.476175   \n",
      "min       913.600000     -23.010000     -25.010000      12.950000   \n",
      "25%       984.200000       3.360000       0.240000      65.210000   \n",
      "50%       989.580000       9.420000       5.220000      79.300000   \n",
      "75%       994.720000      15.470000      10.070000      89.400000   \n",
      "max      1015.350000      37.280000      23.110000     100.000000   \n",
      "\n",
      "        VPmax (mbar)   VPact (mbar)   VPdef (mbar)      sh (g/kg)  \\\n",
      "count  420551.000000  420551.000000  420551.000000  420551.000000   \n",
      "mean       13.576251       9.533756       4.042412       6.022408   \n",
      "std         7.739020       4.184164       4.896851       2.656139   \n",
      "min         0.950000       0.790000       0.000000       0.500000   \n",
      "25%         7.780000       6.210000       0.870000       3.920000   \n",
      "50%        11.820000       8.860000       2.190000       5.590000   \n",
      "75%        17.600000      12.350000       5.300000       7.800000   \n",
      "max        63.770000      28.320000      46.010000      18.130000   \n",
      "\n",
      "       H2OC (mmol/mol)   rho (g/m**3)       wv (m/s)  max. wv (m/s)  \\\n",
      "count    420551.000000  420551.000000  420551.000000  420551.000000   \n",
      "mean          9.640223    1216.062748       1.702224       3.056555   \n",
      "std           4.235395      39.975208      65.446714      69.016932   \n",
      "min           0.800000    1059.450000   -9999.000000   -9999.000000   \n",
      "25%           6.290000    1187.490000       0.990000       1.760000   \n",
      "50%           8.960000    1213.790000       1.760000       2.960000   \n",
      "75%          12.490000    1242.770000       2.860000       4.740000   \n",
      "max          28.820000    1393.540000      28.490000      23.500000   \n",
      "\n",
      "            wd (deg)  \n",
      "count  420551.000000  \n",
      "mean      174.743738  \n",
      "std        86.681693  \n",
      "min         0.000000  \n",
      "25%       124.900000  \n",
      "50%       198.100000  \n",
      "75%       234.100000  \n",
      "max       360.000000  \n"
     ]
    }
   ],
   "source": [
    "INPUT_FILE = \"../data/jena_climate_2009_2016.csv\"\n",
    "\n",
    "NUMERIC_COLS = [\n",
    "    \"p (mbar)\",\n",
    "    \"T (degC)\",\n",
    "    \"Tdew (degC)\",\n",
    "    \"rh (%)\",\n",
    "    \"VPmax (mbar)\",\n",
    "    \"VPact (mbar)\",\n",
    "    \"VPdef (mbar)\",\n",
    "    \"sh (g/kg)\",\n",
    "    \"H2OC (mmol/mol)\",\n",
    "    \"rho (g/m**3)\",\n",
    "    \"wv (m/s)\",\n",
    "    \"max. wv (m/s)\",\n",
    "    \"wd (deg)\"\n",
    "]\n",
    "\n",
    "df = pd.read_csv(INPUT_FILE, header=0)\n",
    "\n",
    "print(\"HEAD\")\n",
    "print(df.head())\n",
    "print(\"\\nINFO\")\n",
    "print(df.info())\n",
    "print(\"\\nDESCRIBE\")\n",
    "print(df[NUMERIC_COLS].describe())\n"
   ]
  },
  {
   "cell_type": "markdown",
   "id": "1330b5dc",
   "metadata": {},
   "source": [
    "## 1.3 drop unnecessary columns and rows with bad data"
   ]
  },
  {
   "cell_type": "code",
   "execution_count": 24,
   "id": "a9db0c69",
   "metadata": {},
   "outputs": [
    {
     "name": "stdout",
     "output_type": "stream",
     "text": [
      "            p (mbar)       T (degC)    Tdew (degC)         rh (%)  \\\n",
      "count  420531.000000  420531.000000  420531.000000  420531.000000   \n",
      "mean      989.212729       9.449734       4.955489      76.008531   \n",
      "std         8.358677       8.423351       6.730626      16.476500   \n",
      "min       913.600000     -23.010000     -25.010000      12.950000   \n",
      "25%       984.200000       3.360000       0.240000      65.210000   \n",
      "50%       989.580000       9.410000       5.210000      79.300000   \n",
      "75%       994.720000      15.470000      10.070000      89.400000   \n",
      "max      1015.350000      37.280000      23.110000     100.000000   \n",
      "\n",
      "        VPmax (mbar)   VPact (mbar)   VPdef (mbar)      sh (g/kg)  \\\n",
      "count  420531.000000  420531.000000  420531.000000  420531.000000   \n",
      "mean       13.575903       9.533513       4.042308       6.022255   \n",
      "std         7.739038       4.184115       4.896939       2.656109   \n",
      "min         0.950000       0.790000       0.000000       0.500000   \n",
      "25%         7.780000       6.210000       0.870000       3.920000   \n",
      "50%        11.820000       8.860000       2.190000       5.590000   \n",
      "75%        17.600000      12.350000       5.300000       7.800000   \n",
      "max        63.770000      28.320000      46.010000      18.130000   \n",
      "\n",
      "       H2OC (mmol/mol)   rho (g/m**3)      wv (m/s)  max. wv (m/s)  \\\n",
      "count    420531.000000  420531.000000  420531.00000  420531.000000   \n",
      "mean          9.639978    1216.064581       2.13021       3.532242   \n",
      "std           4.235346      39.975272       1.54176       2.340411   \n",
      "min           0.800000    1059.450000       0.00000       0.000000   \n",
      "25%           6.290000    1187.490000       0.99000       1.760000   \n",
      "50%           8.960000    1213.790000       1.76000       2.960000   \n",
      "75%          12.480000    1242.770000       2.86000       4.740000   \n",
      "max          28.820000    1393.540000      14.63000      23.500000   \n",
      "\n",
      "            wd (deg)  \n",
      "count  420531.000000  \n",
      "mean      174.735147  \n",
      "std        86.674735  \n",
      "min         0.000000  \n",
      "25%       124.900000  \n",
      "50%       198.100000  \n",
      "75%       234.100000  \n",
      "max       360.000000  \n"
     ]
    }
   ],
   "source": [
    "OUTPUT_FILE = \"../data/filtered.csv\"\n",
    "BAD_VALUES = [-9999]\n",
    "\n",
    "df = df.drop(\"Tpot (K)\", axis=1)\n",
    "\n",
    "df[NUMERIC_COLS] = df[NUMERIC_COLS].replace(BAD_VALUES, np.nan)\n",
    "df = df.dropna(subset=NUMERIC_COLS)\n",
    "print(df[NUMERIC_COLS].describe())\n",
    "\n",
    "df.to_csv(OUTPUT_FILE, header=True, index=False)"
   ]
  },
  {
   "cell_type": "markdown",
   "id": "00d4390f",
   "metadata": {},
   "source": [
    "## 1.4 divide into train, test and validation sets"
   ]
  },
  {
   "cell_type": "code",
   "execution_count": 25,
   "id": "591cbad6",
   "metadata": {},
   "outputs": [
    {
     "name": "stdout",
     "output_type": "stream",
     "text": [
      "train: 294371, 69.99983354378155%\n",
      "validation: 63080, 15.000083228109224%\n",
      "test: 63080, 15.000083228109224%\n"
     ]
    }
   ],
   "source": [
    "INPUT_FILE = \"../data/filtered.csv\"\n",
    "\n",
    "df = pd.read_csv(INPUT_FILE, header=0)\n",
    "\n",
    "n = len(df)\n",
    "train_end = int(0.7 * n)\n",
    "val_end = int(0.85 * n)\n",
    "\n",
    "train_df = df.iloc[:train_end]\n",
    "val_df = df.iloc[train_end:val_end]\n",
    "test_df = df.iloc[val_end:]\n",
    "\n",
    "train_df.to_csv(\"../data/train_set.csv\", index=False, header=True)\n",
    "val_df.to_csv(\"../data/validation_set.csv\", index=False, header=True)\n",
    "test_df.to_csv(\"../data/test_set.csv\", index=False, header=True)\n",
    "\n",
    "print(f\"train: {len(train_df)}, {(len(train_df) / n) * 100}%\")\n",
    "print(f\"validation: {len(val_df)}, {(len(val_df) / n) * 100}%\")\n",
    "print(f\"test: {len(test_df)}, {(len(test_df) / n) * 100}%\")"
   ]
  },
  {
   "cell_type": "markdown",
   "id": "c5eee173",
   "metadata": {},
   "source": [
    "## 1.5 normalize data using min max scaler"
   ]
  },
  {
   "cell_type": "code",
   "execution_count": 26,
   "id": "342f0a1a",
   "metadata": {},
   "outputs": [],
   "source": [
    "train_df = pd.read_csv(\"../data/train_set.csv\", header=0)\n",
    "val_df = pd.read_csv(\"../data/validation_set.csv\", header=0)\n",
    "test_df = pd.read_csv(\"../data/test_set.csv\", header=0)\n",
    "\n",
    "scaler = MinMaxScaler()\n",
    "scaler.fit(train_df[NUMERIC_COLS])\n",
    "\n",
    "train_df[NUMERIC_COLS] = scaler.transform(train_df[NUMERIC_COLS])\n",
    "val_df[NUMERIC_COLS] = scaler.transform(val_df[NUMERIC_COLS])\n",
    "test_df[NUMERIC_COLS] = scaler.transform(test_df[NUMERIC_COLS])\n",
    "\n",
    "train_df.to_csv(\"../data/train_set_normalized.csv\", index=False, header=True)\n",
    "val_df.to_csv(\"../data/validation_set_normalized.csv\", index=False, header=True)\n",
    "test_df.to_csv(\"../data/test_set_normalized.csv\", index=False, header=True)"
   ]
  },
  {
   "cell_type": "markdown",
   "id": "375b37fc",
   "metadata": {},
   "source": [
    "## 1.6 create sequences"
   ]
  },
  {
   "cell_type": "code",
   "execution_count": 27,
   "id": "7a19dd35",
   "metadata": {},
   "outputs": [],
   "source": [
    "train_data = pd.read_csv(\"../data/train_set_normalized.csv\", header=0)\n",
    "val_data = pd.read_csv(\"../data/validation_set_normalized.csv\", header=0)\n",
    "test_data = pd.read_csv(\"../data/test_set_normalized.csv\", header=0)\n",
    "\n",
    "train_data = train_data[NUMERIC_COLS]\n",
    "val_data = val_data[NUMERIC_COLS]\n",
    "test_data = test_data[NUMERIC_COLS]\n",
    "\n",
    "def create_sequences(data, seq_length: int, forecast_horizon: int):\n",
    "    X, y = [], []\n",
    "    for i in range(len(data) - seq_length - forecast_horizon + 1):\n",
    "        X.append(data[i:i+seq_length])\n",
    "        y.append(data[i+seq_length:i+seq_length+forecast_horizon])\n",
    "    return np.array(X), np.array(y)\n",
    "\n",
    "sequence_length = 12 # based on last two hours\n",
    "forecast_horizon = 1 # predict next 10 minutes\n",
    "\n",
    "X_train, y_train = create_sequences(train_data, sequence_length, forecast_horizon)\n",
    "X_val, y_val = create_sequences(val_data, sequence_length, forecast_horizon)\n",
    "X_test, y_test = create_sequences(test_data, sequence_length, forecast_horizon)\n",
    "\n",
    "y_train = y_train.reshape(y_train.shape[0], y_train.shape[2])\n",
    "y_val = y_val.reshape(y_val.shape[0], y_val.shape[2])\n",
    "y_test = y_test.reshape(y_test.shape[0], y_test.shape[2])\n",
    "\n",
    "np.save(\"../data/X_train.npy\", X_train)\n",
    "np.save(\"../data/y_train.npy\", y_train)\n",
    "\n",
    "np.save(\"../data/X_val.npy\", X_val)\n",
    "np.save(\"../data/y_val.npy\", y_val)\n",
    "\n",
    "np.save(\"../data/X_test.npy\", X_test)\n",
    "np.save(\"../data/y_test.npy\", y_test)"
   ]
  },
  {
   "cell_type": "markdown",
   "id": "1e71f2b4",
   "metadata": {},
   "source": [
    "## 1.7 graphs"
   ]
  },
  {
   "cell_type": "code",
   "execution_count": null,
   "id": "616b2830",
   "metadata": {},
   "outputs": [],
   "source": [
    "df = pd.read_csv(\"../data/train_set_normalized.csv\")\n",
    "df[\"Date Time\"] = pd.to_datetime(df[\"Date Time\"], format='%d.%m.%Y %H:%M:%S')\n",
    "\n",
    "points_per_hour = 6\n",
    "hours_to_plot = 3\n",
    "subset = df.iloc[:hours_to_plot * points_per_hour]\n",
    "timestamps_subset = subset[\"Date Time\"].values\n",
    "data_subset = subset[NUMERIC_COLS].values\n",
    "\n",
    "sequence_length = X_train.shape[1]\n",
    "forecast_horizon = 1\n",
    "X_subset, y_subset = create_sequences(data_subset, sequence_length, forecast_horizon)\n",
    "\n",
    "num_sequences_to_plot = 1  # how many sample sequences to show\n",
    "fig, axes = plt.subplots(len(NUMERIC_COLS), 1, figsize=(14, 3 * len(NUMERIC_COLS)), sharex=True)\n",
    "\n",
    "for idx, col in enumerate(NUMERIC_COLS):\n",
    "    ax = axes[idx] if len(NUMERIC_COLS) > 1 else axes\n",
    "\n",
    "    # Original data (gray)\n",
    "    ax.plot(subset[\"Date Time\"], subset[col], color=\"gray\", alpha=0.6, label=\"Original data\")\n",
    "\n",
    "    # Sequences\n",
    "    for i in range(num_sequences_to_plot):\n",
    "        seq_start = i\n",
    "        seq_end = i + sequence_length\n",
    "        seq_time = subset[\"Date Time\"].iloc[seq_start:seq_end]\n",
    "\n",
    "        ax.plot(seq_time, X_subset[i, :, idx], marker=\"o\", label=f\"Seq {i+1}\")\n",
    "\n",
    "        # The target (future point)\n",
    "        target_time = subset[\"Date Time\"].iloc[seq_end:seq_end+forecast_horizon]\n",
    "        ax.scatter(target_time, y_subset[i, :, idx], color=\"red\", marker=\"x\", s=80, label=\"Target\" if i == 0 else \"\")\n",
    "\n",
    "    ax.set_title(col)\n",
    "    ax.legend(loc=\"upper left\")\n",
    "\n",
    "plt.suptitle(\"Comparison of original data and sliced sequence (3h Sample)\", fontsize=14)\n",
    "plt.xlabel(\"Time\")\n",
    "plt.tight_layout()\n",
    "plt.show()\n"
   ]
  }
 ],
 "metadata": {
  "kernelspec": {
   "display_name": ".venv",
   "language": "python",
   "name": "python3"
  },
  "language_info": {
   "codemirror_mode": {
    "name": "ipython",
    "version": 3
   },
   "file_extension": ".py",
   "mimetype": "text/x-python",
   "name": "python",
   "nbconvert_exporter": "python",
   "pygments_lexer": "ipython3",
   "version": "3.10.0"
  }
 },
 "nbformat": 4,
 "nbformat_minor": 5
}
