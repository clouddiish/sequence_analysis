{
 "cells": [
  {
   "cell_type": "markdown",
   "id": "45b232ed",
   "metadata": {},
   "source": [
    "# 1. prepare dataset"
   ]
  },
  {
   "cell_type": "code",
   "execution_count": null,
   "id": "db6a3e7b",
   "metadata": {},
   "outputs": [],
   "source": [
    "import io\n",
    "import glob\n",
    "import os\n",
    "import zipfile\n",
    "\n",
    "import pandas as pd\n",
    "import requests"
   ]
  },
  {
   "cell_type": "markdown",
   "id": "09109dd4",
   "metadata": {},
   "source": [
    "## 1.1 download raw data"
   ]
  },
  {
   "cell_type": "code",
   "execution_count": null,
   "id": "f47f7845",
   "metadata": {},
   "outputs": [],
   "source": [
    "SOURCE_BASE_URL = \"https://danepubliczne.imgw.pl/data/dane_pomiarowo_obserwacyjne/dane_meteorologiczne/dobowe/klimat/\"\n",
    "OUTPUT_DIR = \"../data/raw_files\"\n",
    "os.makedirs(OUTPUT_DIR, exist_ok=True)"
   ]
  },
  {
   "cell_type": "code",
   "execution_count": null,
   "id": "124f5845",
   "metadata": {},
   "outputs": [],
   "source": [
    "for year in range(2001, 2026):\n",
    "    for month in range(1, 13):\n",
    "        month_str = \"0\" + str(month) if month < 10 else str(month)\n",
    "        zip_url = f\"{SOURCE_BASE_URL}/{year}/{year}_{month_str}_k.zip\"\n",
    "        file_to_extract = f\"k_d_t_{month_str}_{year}.csv\"\n",
    "        output_path = os.path.join(OUTPUT_DIR, f\"{year}_{month_str}.csv\")\n",
    "        \n",
    "        # skip if file already exists\n",
    "        if os.path.exists(output_path):\n",
    "            print(f\"skipping file {output_path} (already exists)\")\n",
    "            continue\n",
    "\n",
    "        try:\n",
    "            # download zip\n",
    "            response = requests.get(zip_url)\n",
    "\n",
    "            # extract zip\n",
    "            with zipfile.ZipFile(io.BytesIO(response.content)) as z:\n",
    "                with z.open(file_to_extract) as f:\n",
    "                    file_bytes = f.read()\n",
    "\n",
    "            # save only the file we want\n",
    "            with open(output_path, \"wb\") as out_file:\n",
    "                out_file.write(file_bytes)\n",
    "        \n",
    "        except Exception as e:\n",
    "            # skip if some issue\n",
    "            print(f\"error when downloading file: {zip_url}: {e}\")\n",
    "            continue\n",
    "        "
   ]
  },
  {
   "cell_type": "markdown",
   "id": "77f78aa7",
   "metadata": {},
   "source": [
    "## 1.2 consolidate and select one station"
   ]
  },
  {
   "cell_type": "code",
   "execution_count": null,
   "id": "ca6cf171",
   "metadata": {},
   "outputs": [],
   "source": [
    "INPUT_DIR = \"../data/raw_files\"\n",
    "OUTPUT_FILE = \"../data/one_station.csv\"\n",
    "FILTER_COL_INDEX = 0  # station code\n",
    "FILTER_VALUE = 252210170  # WARSZAWA-OBSERWATORIUM II\n",
    "COLUMN_NAMES = [\n",
    "    \"station_code\",\n",
    "    \"station_name\",\n",
    "    \"year\",\n",
    "    \"month\",\n",
    "    \"day\",\n",
    "    \"avg_day_temp\",\n",
    "    \"temp_status\",\n",
    "    \"avg_day_humidity\",\n",
    "    \"humidity_status\",\n",
    "    \"avg_day_wind_speed\",\n",
    "    \"wind_status\",\n",
    "    \"avg_day_cloud_lvl\",\n",
    "    \"cloud_status\"\n",
    "]\n",
    "\n",
    "csv_files = glob.glob(os.path.join(INPUT_DIR, \"*.csv\"))\n",
    "all_dfs = []\n",
    "\n",
    "for file in csv_files:\n",
    "    df = pd.read_csv(\n",
    "        file, \n",
    "        header=None, \n",
    "        encoding=\"utf-8\", \n",
    "        encoding_errors=\"ignore\",\n",
    "        sep=\",\",\n",
    "        quotechar='\"'\n",
    "    ) \n",
    "    filtered = df[df[FILTER_COL_INDEX] == FILTER_VALUE]\n",
    "\n",
    "    if not filtered.empty:\n",
    "        all_dfs.append(filtered)\n",
    "\n",
    "final_df = pd.concat(all_dfs, ignore_index=True)\n",
    "final_df.columns = COLUMN_NAMES\n",
    "final_df.to_csv(OUTPUT_FILE, index=False, header=True)\n",
    "\n",
    "print(f\"Saved {len(final_df)} rows to {OUTPUT_FILE}\") "
   ]
  }
 ],
 "metadata": {
  "kernelspec": {
   "display_name": ".venv",
   "language": "python",
   "name": "python3"
  },
  "language_info": {
   "codemirror_mode": {
    "name": "ipython",
    "version": 3
   },
   "file_extension": ".py",
   "mimetype": "text/x-python",
   "name": "python",
   "nbconvert_exporter": "python",
   "pygments_lexer": "ipython3",
   "version": "3.10.0"
  }
 },
 "nbformat": 4,
 "nbformat_minor": 5
}
