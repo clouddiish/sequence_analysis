{
 "cells": [
  {
   "cell_type": "markdown",
   "id": "ad932d7a",
   "metadata": {},
   "source": [
    "# 3. linear regression"
   ]
  },
  {
   "cell_type": "code",
   "execution_count": 1,
   "id": "d4e46c3e",
   "metadata": {},
   "outputs": [],
   "source": [
    "import joblib\n",
    "\n",
    "from sklearn.linear_model import LinearRegression\n",
    "from sklearn.metrics import mean_absolute_error, mean_squared_error\n",
    "import numpy as np\n",
    "import matplotlib.pyplot as plt"
   ]
  },
  {
   "cell_type": "markdown",
   "id": "c3b5f416",
   "metadata": {},
   "source": [
    "## 2.1 load and inpsect data"
   ]
  },
  {
   "cell_type": "code",
   "execution_count": 3,
   "id": "42db2930",
   "metadata": {},
   "outputs": [
    {
     "name": "stdout",
     "output_type": "stream",
     "text": [
      "X_train shape: (294359, 12, 13)\n",
      "y_train shape: (294359, 13)\n"
     ]
    }
   ],
   "source": [
    "X_train = np.load(\"../data/X_train.npy\")\n",
    "y_train = np.load(\"../data/y_train.npy\")\n",
    "\n",
    "X_val = np.load(\"../data/X_val.npy\")\n",
    "y_val = np.load(\"../data/y_val.npy\")\n",
    "\n",
    "X_test = np.load(\"../data/X_test.npy\")\n",
    "y_test = np.load(\"../data/y_test.npy\")\n",
    "\n",
    "print(f\"X_train shape: {X_train.shape}\")\n",
    "print(f\"y_train shape: {y_train.shape}\")\n",
    "\n",
    "# match shape for linear regression (expects 2D input)\n",
    "if len(X_train.shape) > 2:\n",
    "    X_train = X_train.reshape(X_train.shape[0], -1)\n",
    "    X_val = X_val.reshape(X_val.shape[0], -1)\n",
    "    X_test = X_test.reshape(X_test.shape[0], -1)"
   ]
  },
  {
   "cell_type": "markdown",
   "id": "2135a3db",
   "metadata": {},
   "source": [
    "## 2.2 train the model"
   ]
  },
  {
   "cell_type": "code",
   "execution_count": 4,
   "id": "28f5fd5a",
   "metadata": {},
   "outputs": [
    {
     "data": {
      "text/plain": [
       "['../models/linear_regression_weather.pkl']"
      ]
     },
     "execution_count": 4,
     "metadata": {},
     "output_type": "execute_result"
    }
   ],
   "source": [
    "model = LinearRegression()\n",
    "model.fit(X_train, y_train)\n",
    "\n",
    "joblib.dump(model, \"../models/linear_regression_weather.pkl\")"
   ]
  },
  {
   "cell_type": "markdown",
   "id": "411c8cd1",
   "metadata": {},
   "source": [
    "## 2.3 evaluate on test set "
   ]
  },
  {
   "cell_type": "code",
   "execution_count": 7,
   "id": "41647bd7",
   "metadata": {},
   "outputs": [],
   "source": [
    "model = joblib.load(\"../models/linear_regression_weather.pkl\")\n",
    "\n",
    "y_pred_train = model.predict(X_train)\n",
    "y_pred_test = model.predict(X_test)"
   ]
  },
  {
   "cell_type": "code",
   "execution_count": 8,
   "id": "32b9441c",
   "metadata": {},
   "outputs": [
    {
     "name": "stdout",
     "output_type": "stream",
     "text": [
      "Test loss: 0.001833838159962901\n",
      "Test MAE: 0.012039638188533965\n"
     ]
    }
   ],
   "source": [
    "test_loss = mean_squared_error(y_test, y_pred_test)\n",
    "test_mae = mean_absolute_error(y_test, y_pred_test)\n",
    "print(\"Test loss:\", test_loss)\n",
    "print(\"Test MAE:\", test_mae)"
   ]
  },
  {
   "cell_type": "code",
   "execution_count": null,
   "id": "e935aaed",
   "metadata": {},
   "outputs": [],
   "source": [
    "y_pred = y_pred_test\n",
    "\n",
    "NUMERIC_COLS = [\n",
    "    \"p (mbar)\",\n",
    "    \"T (degC)\",\n",
    "    \"Tdew (degC)\",\n",
    "    \"rh (%)\",\n",
    "    \"VPmax (mbar)\",\n",
    "    \"VPact (mbar)\",\n",
    "    \"VPdef (mbar)\",\n",
    "    \"sh (g/kg)\",\n",
    "    \"H2OC (mmol/mol)\",\n",
    "    \"rho (g/m**3)\",\n",
    "    \"wv (m/s)\",\n",
    "    \"max. wv (m/s)\",\n",
    "    \"wd (deg)\"\n",
    "]\n",
    "\n",
    "\n",
    "n_features = len(NUMERIC_COLS)\n",
    "n_rows, n_cols = n_features, 1\n",
    "fig, axes = plt.subplots(n_rows, n_cols, figsize=(15, 15))\n",
    "axes = axes.flatten()\n",
    "\n",
    "for i in range(n_features):\n",
    "    ax = axes[i]\n",
    "    ax.plot(y_test[:200, i], label=\"Actual\", color='orange')\n",
    "    ax.plot(y_pred[:200, i], label=\"Predicted\", color='blue')\n",
    "    ax.set_title(NUMERIC_COLS[i], fontsize=10)\n",
    "    ax.legend(fontsize=8)\n",
    "    ax.grid(True)\n",
    "\n",
    "fig.suptitle(\"Actual vs predicted values (Linear Regression)\", fontsize=14)\n",
    "fig.tight_layout(rect=[0, 0, 1, 0.97])\n",
    "plt.show()"
   ]
  }
 ],
 "metadata": {
  "kernelspec": {
   "display_name": ".venv",
   "language": "python",
   "name": "python3"
  },
  "language_info": {
   "codemirror_mode": {
    "name": "ipython",
    "version": 3
   },
   "file_extension": ".py",
   "mimetype": "text/x-python",
   "name": "python",
   "nbconvert_exporter": "python",
   "pygments_lexer": "ipython3",
   "version": "3.10.0"
  }
 },
 "nbformat": 4,
 "nbformat_minor": 5
}
